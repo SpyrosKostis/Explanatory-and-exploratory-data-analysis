{
 "cells": [
  {
   "cell_type": "code",
   "execution_count": 3,
   "metadata": {},
   "outputs": [],
   "source": [
    "import pandas as pd\n",
    "import matplotlib.pyplot as plt\n",
    "import seaborn as sb\n",
    "import numpy as np"
   ]
  },
  {
   "cell_type": "markdown",
   "metadata": {},
   "source": [
    "# 1.Data extraction"
   ]
  },
  {
   "cell_type": "code",
   "execution_count": 4,
   "metadata": {
    "scrolled": false
   },
   "outputs": [
    {
     "data": {
      "text/html": [
       "<div>\n",
       "<style scoped>\n",
       "    .dataframe tbody tr th:only-of-type {\n",
       "        vertical-align: middle;\n",
       "    }\n",
       "\n",
       "    .dataframe tbody tr th {\n",
       "        vertical-align: top;\n",
       "    }\n",
       "\n",
       "    .dataframe thead th {\n",
       "        text-align: right;\n",
       "    }\n",
       "</style>\n",
       "<table border=\"1\" class=\"dataframe\">\n",
       "  <thead>\n",
       "    <tr style=\"text-align: right;\">\n",
       "      <th></th>\n",
       "      <th>duration_sec</th>\n",
       "      <th>start_time</th>\n",
       "      <th>end_time</th>\n",
       "      <th>start_station_id</th>\n",
       "      <th>start_station_name</th>\n",
       "      <th>start_station_latitude</th>\n",
       "      <th>start_station_longitude</th>\n",
       "      <th>end_station_id</th>\n",
       "      <th>end_station_name</th>\n",
       "      <th>end_station_latitude</th>\n",
       "      <th>end_station_longitude</th>\n",
       "      <th>bike_id</th>\n",
       "      <th>user_type</th>\n",
       "      <th>member_birth_year</th>\n",
       "      <th>member_gender</th>\n",
       "    </tr>\n",
       "  </thead>\n",
       "  <tbody>\n",
       "    <tr>\n",
       "      <th>0</th>\n",
       "      <td>80110</td>\n",
       "      <td>2017-12-31 16:57:39.6540</td>\n",
       "      <td>2018-01-01 15:12:50.2450</td>\n",
       "      <td>74</td>\n",
       "      <td>Laguna St at Hayes St</td>\n",
       "      <td>37.776435</td>\n",
       "      <td>-122.426244</td>\n",
       "      <td>43</td>\n",
       "      <td>San Francisco Public Library (Grove St at Hyde...</td>\n",
       "      <td>37.778768</td>\n",
       "      <td>-122.415929</td>\n",
       "      <td>96</td>\n",
       "      <td>Customer</td>\n",
       "      <td>1987.0</td>\n",
       "      <td>Male</td>\n",
       "    </tr>\n",
       "    <tr>\n",
       "      <th>1</th>\n",
       "      <td>78800</td>\n",
       "      <td>2017-12-31 15:56:34.8420</td>\n",
       "      <td>2018-01-01 13:49:55.6170</td>\n",
       "      <td>284</td>\n",
       "      <td>Yerba Buena Center for the Arts (Howard St at ...</td>\n",
       "      <td>37.784872</td>\n",
       "      <td>-122.400876</td>\n",
       "      <td>96</td>\n",
       "      <td>Dolores St at 15th St</td>\n",
       "      <td>37.766210</td>\n",
       "      <td>-122.426614</td>\n",
       "      <td>88</td>\n",
       "      <td>Customer</td>\n",
       "      <td>1965.0</td>\n",
       "      <td>Female</td>\n",
       "    </tr>\n",
       "    <tr>\n",
       "      <th>2</th>\n",
       "      <td>45768</td>\n",
       "      <td>2017-12-31 22:45:48.4110</td>\n",
       "      <td>2018-01-01 11:28:36.8830</td>\n",
       "      <td>245</td>\n",
       "      <td>Downtown Berkeley BART</td>\n",
       "      <td>37.870348</td>\n",
       "      <td>-122.267764</td>\n",
       "      <td>245</td>\n",
       "      <td>Downtown Berkeley BART</td>\n",
       "      <td>37.870348</td>\n",
       "      <td>-122.267764</td>\n",
       "      <td>1094</td>\n",
       "      <td>Customer</td>\n",
       "      <td>NaN</td>\n",
       "      <td>NaN</td>\n",
       "    </tr>\n",
       "    <tr>\n",
       "      <th>3</th>\n",
       "      <td>62172</td>\n",
       "      <td>2017-12-31 17:31:10.6360</td>\n",
       "      <td>2018-01-01 10:47:23.5310</td>\n",
       "      <td>60</td>\n",
       "      <td>8th St at Ringold St</td>\n",
       "      <td>37.774520</td>\n",
       "      <td>-122.409449</td>\n",
       "      <td>5</td>\n",
       "      <td>Powell St BART Station (Market St at 5th St)</td>\n",
       "      <td>37.783899</td>\n",
       "      <td>-122.408445</td>\n",
       "      <td>2831</td>\n",
       "      <td>Customer</td>\n",
       "      <td>NaN</td>\n",
       "      <td>NaN</td>\n",
       "    </tr>\n",
       "    <tr>\n",
       "      <th>4</th>\n",
       "      <td>43603</td>\n",
       "      <td>2017-12-31 14:23:14.0010</td>\n",
       "      <td>2018-01-01 02:29:57.5710</td>\n",
       "      <td>239</td>\n",
       "      <td>Bancroft Way at Telegraph Ave</td>\n",
       "      <td>37.868813</td>\n",
       "      <td>-122.258764</td>\n",
       "      <td>247</td>\n",
       "      <td>Fulton St at Bancroft Way</td>\n",
       "      <td>37.867789</td>\n",
       "      <td>-122.265896</td>\n",
       "      <td>3167</td>\n",
       "      <td>Subscriber</td>\n",
       "      <td>1997.0</td>\n",
       "      <td>Female</td>\n",
       "    </tr>\n",
       "  </tbody>\n",
       "</table>\n",
       "</div>"
      ],
      "text/plain": [
       "   duration_sec                start_time                  end_time  \\\n",
       "0         80110  2017-12-31 16:57:39.6540  2018-01-01 15:12:50.2450   \n",
       "1         78800  2017-12-31 15:56:34.8420  2018-01-01 13:49:55.6170   \n",
       "2         45768  2017-12-31 22:45:48.4110  2018-01-01 11:28:36.8830   \n",
       "3         62172  2017-12-31 17:31:10.6360  2018-01-01 10:47:23.5310   \n",
       "4         43603  2017-12-31 14:23:14.0010  2018-01-01 02:29:57.5710   \n",
       "\n",
       "   start_station_id                                 start_station_name  \\\n",
       "0                74                              Laguna St at Hayes St   \n",
       "1               284  Yerba Buena Center for the Arts (Howard St at ...   \n",
       "2               245                             Downtown Berkeley BART   \n",
       "3                60                               8th St at Ringold St   \n",
       "4               239                      Bancroft Way at Telegraph Ave   \n",
       "\n",
       "   start_station_latitude  start_station_longitude  end_station_id  \\\n",
       "0               37.776435              -122.426244              43   \n",
       "1               37.784872              -122.400876              96   \n",
       "2               37.870348              -122.267764             245   \n",
       "3               37.774520              -122.409449               5   \n",
       "4               37.868813              -122.258764             247   \n",
       "\n",
       "                                    end_station_name  end_station_latitude  \\\n",
       "0  San Francisco Public Library (Grove St at Hyde...             37.778768   \n",
       "1                              Dolores St at 15th St             37.766210   \n",
       "2                             Downtown Berkeley BART             37.870348   \n",
       "3       Powell St BART Station (Market St at 5th St)             37.783899   \n",
       "4                          Fulton St at Bancroft Way             37.867789   \n",
       "\n",
       "   end_station_longitude  bike_id   user_type  member_birth_year member_gender  \n",
       "0            -122.415929       96    Customer             1987.0          Male  \n",
       "1            -122.426614       88    Customer             1965.0        Female  \n",
       "2            -122.267764     1094    Customer                NaN           NaN  \n",
       "3            -122.408445     2831    Customer                NaN           NaN  \n",
       "4            -122.265896     3167  Subscriber             1997.0        Female  "
      ]
     },
     "execution_count": 4,
     "metadata": {},
     "output_type": "execute_result"
    }
   ],
   "source": [
    "bike2017=pd.read_csv('2017.csv')\n",
    "bike2017.head()"
   ]
  },
  {
   "cell_type": "code",
   "execution_count": 5,
   "metadata": {},
   "outputs": [
    {
     "data": {
      "text/html": [
       "<div>\n",
       "<style scoped>\n",
       "    .dataframe tbody tr th:only-of-type {\n",
       "        vertical-align: middle;\n",
       "    }\n",
       "\n",
       "    .dataframe tbody tr th {\n",
       "        vertical-align: top;\n",
       "    }\n",
       "\n",
       "    .dataframe thead th {\n",
       "        text-align: right;\n",
       "    }\n",
       "</style>\n",
       "<table border=\"1\" class=\"dataframe\">\n",
       "  <thead>\n",
       "    <tr style=\"text-align: right;\">\n",
       "      <th></th>\n",
       "      <th>duration_sec</th>\n",
       "      <th>start_station_id</th>\n",
       "      <th>start_station_latitude</th>\n",
       "      <th>start_station_longitude</th>\n",
       "      <th>end_station_id</th>\n",
       "      <th>end_station_latitude</th>\n",
       "      <th>end_station_longitude</th>\n",
       "      <th>bike_id</th>\n",
       "      <th>member_birth_year</th>\n",
       "    </tr>\n",
       "  </thead>\n",
       "  <tbody>\n",
       "    <tr>\n",
       "      <th>count</th>\n",
       "      <td>519700.000000</td>\n",
       "      <td>519700.000000</td>\n",
       "      <td>519700.000000</td>\n",
       "      <td>519700.000000</td>\n",
       "      <td>519700.000000</td>\n",
       "      <td>519700.000000</td>\n",
       "      <td>519700.000000</td>\n",
       "      <td>519700.000000</td>\n",
       "      <td>453159.000000</td>\n",
       "    </tr>\n",
       "    <tr>\n",
       "      <th>mean</th>\n",
       "      <td>1099.009521</td>\n",
       "      <td>95.034245</td>\n",
       "      <td>37.771653</td>\n",
       "      <td>-122.363927</td>\n",
       "      <td>92.184041</td>\n",
       "      <td>37.771844</td>\n",
       "      <td>-122.363236</td>\n",
       "      <td>1672.533079</td>\n",
       "      <td>1980.404787</td>\n",
       "    </tr>\n",
       "    <tr>\n",
       "      <th>std</th>\n",
       "      <td>3444.146451</td>\n",
       "      <td>86.083078</td>\n",
       "      <td>0.086305</td>\n",
       "      <td>0.105573</td>\n",
       "      <td>84.969491</td>\n",
       "      <td>0.086224</td>\n",
       "      <td>0.105122</td>\n",
       "      <td>971.356959</td>\n",
       "      <td>10.513488</td>\n",
       "    </tr>\n",
       "    <tr>\n",
       "      <th>min</th>\n",
       "      <td>61.000000</td>\n",
       "      <td>3.000000</td>\n",
       "      <td>37.317298</td>\n",
       "      <td>-122.444293</td>\n",
       "      <td>3.000000</td>\n",
       "      <td>37.317298</td>\n",
       "      <td>-122.444293</td>\n",
       "      <td>10.000000</td>\n",
       "      <td>1886.000000</td>\n",
       "    </tr>\n",
       "    <tr>\n",
       "      <th>25%</th>\n",
       "      <td>382.000000</td>\n",
       "      <td>24.000000</td>\n",
       "      <td>37.773492</td>\n",
       "      <td>-122.411726</td>\n",
       "      <td>23.000000</td>\n",
       "      <td>37.774520</td>\n",
       "      <td>-122.410345</td>\n",
       "      <td>787.000000</td>\n",
       "      <td>1974.000000</td>\n",
       "    </tr>\n",
       "    <tr>\n",
       "      <th>50%</th>\n",
       "      <td>596.000000</td>\n",
       "      <td>67.000000</td>\n",
       "      <td>37.783521</td>\n",
       "      <td>-122.398870</td>\n",
       "      <td>66.000000</td>\n",
       "      <td>37.783830</td>\n",
       "      <td>-122.398525</td>\n",
       "      <td>1728.500000</td>\n",
       "      <td>1983.000000</td>\n",
       "    </tr>\n",
       "    <tr>\n",
       "      <th>75%</th>\n",
       "      <td>938.000000</td>\n",
       "      <td>139.000000</td>\n",
       "      <td>37.795392</td>\n",
       "      <td>-122.391034</td>\n",
       "      <td>134.000000</td>\n",
       "      <td>37.795392</td>\n",
       "      <td>-122.391034</td>\n",
       "      <td>2520.000000</td>\n",
       "      <td>1988.000000</td>\n",
       "    </tr>\n",
       "    <tr>\n",
       "      <th>max</th>\n",
       "      <td>86369.000000</td>\n",
       "      <td>340.000000</td>\n",
       "      <td>37.880222</td>\n",
       "      <td>-121.874119</td>\n",
       "      <td>340.000000</td>\n",
       "      <td>37.880222</td>\n",
       "      <td>-121.874119</td>\n",
       "      <td>3733.000000</td>\n",
       "      <td>1999.000000</td>\n",
       "    </tr>\n",
       "  </tbody>\n",
       "</table>\n",
       "</div>"
      ],
      "text/plain": [
       "        duration_sec  start_station_id  start_station_latitude  \\\n",
       "count  519700.000000     519700.000000           519700.000000   \n",
       "mean     1099.009521         95.034245               37.771653   \n",
       "std      3444.146451         86.083078                0.086305   \n",
       "min        61.000000          3.000000               37.317298   \n",
       "25%       382.000000         24.000000               37.773492   \n",
       "50%       596.000000         67.000000               37.783521   \n",
       "75%       938.000000        139.000000               37.795392   \n",
       "max     86369.000000        340.000000               37.880222   \n",
       "\n",
       "       start_station_longitude  end_station_id  end_station_latitude  \\\n",
       "count            519700.000000   519700.000000         519700.000000   \n",
       "mean               -122.363927       92.184041             37.771844   \n",
       "std                   0.105573       84.969491              0.086224   \n",
       "min                -122.444293        3.000000             37.317298   \n",
       "25%                -122.411726       23.000000             37.774520   \n",
       "50%                -122.398870       66.000000             37.783830   \n",
       "75%                -122.391034      134.000000             37.795392   \n",
       "max                -121.874119      340.000000             37.880222   \n",
       "\n",
       "       end_station_longitude        bike_id  member_birth_year  \n",
       "count          519700.000000  519700.000000      453159.000000  \n",
       "mean             -122.363236    1672.533079        1980.404787  \n",
       "std                 0.105122     971.356959          10.513488  \n",
       "min              -122.444293      10.000000        1886.000000  \n",
       "25%              -122.410345     787.000000        1974.000000  \n",
       "50%              -122.398525    1728.500000        1983.000000  \n",
       "75%              -122.391034    2520.000000        1988.000000  \n",
       "max              -121.874119    3733.000000        1999.000000  "
      ]
     },
     "execution_count": 5,
     "metadata": {},
     "output_type": "execute_result"
    }
   ],
   "source": [
    "bike2017.describe()"
   ]
  },
  {
   "cell_type": "code",
   "execution_count": 6,
   "metadata": {
    "scrolled": true
   },
   "outputs": [
    {
     "name": "stdout",
     "output_type": "stream",
     "text": [
      "<class 'pandas.core.frame.DataFrame'>\n",
      "RangeIndex: 519700 entries, 0 to 519699\n",
      "Data columns (total 15 columns):\n",
      "duration_sec               519700 non-null int64\n",
      "start_time                 519700 non-null object\n",
      "end_time                   519700 non-null object\n",
      "start_station_id           519700 non-null int64\n",
      "start_station_name         519700 non-null object\n",
      "start_station_latitude     519700 non-null float64\n",
      "start_station_longitude    519700 non-null float64\n",
      "end_station_id             519700 non-null int64\n",
      "end_station_name           519700 non-null object\n",
      "end_station_latitude       519700 non-null float64\n",
      "end_station_longitude      519700 non-null float64\n",
      "bike_id                    519700 non-null int64\n",
      "user_type                  519700 non-null object\n",
      "member_birth_year          453159 non-null float64\n",
      "member_gender              453238 non-null object\n",
      "dtypes: float64(5), int64(4), object(6)\n",
      "memory usage: 59.5+ MB\n"
     ]
    }
   ],
   "source": [
    "bike2017.info()"
   ]
  },
  {
   "cell_type": "markdown",
   "metadata": {},
   "source": [
    "# 2 Cleaning Process\n",
    "\n",
    "At the beggining lets take a look at the duplicates and null values."
   ]
  },
  {
   "cell_type": "code",
   "execution_count": 7,
   "metadata": {},
   "outputs": [],
   "source": [
    "bike2017['start_time']=pd.to_datetime(bike2017['start_time'])\n",
    "bike2017['end_time']=pd.to_datetime(bike2017['end_time'])"
   ]
  },
  {
   "cell_type": "code",
   "execution_count": 8,
   "metadata": {
    "scrolled": true
   },
   "outputs": [
    {
     "data": {
      "text/plain": [
       "False    519688\n",
       "True         12\n",
       "Name: start_time, dtype: int64"
      ]
     },
     "execution_count": 8,
     "metadata": {},
     "output_type": "execute_result"
    }
   ],
   "source": [
    "bike2017['start_time'].duplicated().value_counts()"
   ]
  },
  {
   "cell_type": "code",
   "execution_count": 9,
   "metadata": {
    "scrolled": true
   },
   "outputs": [
    {
     "data": {
      "text/html": [
       "<div>\n",
       "<style scoped>\n",
       "    .dataframe tbody tr th:only-of-type {\n",
       "        vertical-align: middle;\n",
       "    }\n",
       "\n",
       "    .dataframe tbody tr th {\n",
       "        vertical-align: top;\n",
       "    }\n",
       "\n",
       "    .dataframe thead th {\n",
       "        text-align: right;\n",
       "    }\n",
       "</style>\n",
       "<table border=\"1\" class=\"dataframe\">\n",
       "  <thead>\n",
       "    <tr style=\"text-align: right;\">\n",
       "      <th></th>\n",
       "      <th>duration_sec</th>\n",
       "      <th>start_time</th>\n",
       "      <th>end_time</th>\n",
       "      <th>start_station_id</th>\n",
       "      <th>start_station_name</th>\n",
       "      <th>start_station_latitude</th>\n",
       "      <th>start_station_longitude</th>\n",
       "      <th>end_station_id</th>\n",
       "      <th>end_station_name</th>\n",
       "      <th>end_station_latitude</th>\n",
       "      <th>end_station_longitude</th>\n",
       "      <th>bike_id</th>\n",
       "      <th>user_type</th>\n",
       "      <th>member_birth_year</th>\n",
       "      <th>member_gender</th>\n",
       "    </tr>\n",
       "  </thead>\n",
       "  <tbody>\n",
       "    <tr>\n",
       "      <th>52592</th>\n",
       "      <td>474</td>\n",
       "      <td>2017-12-11 08:30:30.571</td>\n",
       "      <td>2017-12-11 08:38:25.257</td>\n",
       "      <td>23</td>\n",
       "      <td>The Embarcadero at Steuart St</td>\n",
       "      <td>37.791464</td>\n",
       "      <td>-122.391034</td>\n",
       "      <td>6</td>\n",
       "      <td>The Embarcadero at Sansome St</td>\n",
       "      <td>37.804770</td>\n",
       "      <td>-122.403234</td>\n",
       "      <td>71</td>\n",
       "      <td>Subscriber</td>\n",
       "      <td>1995.0</td>\n",
       "      <td>Male</td>\n",
       "    </tr>\n",
       "    <tr>\n",
       "      <th>64524</th>\n",
       "      <td>457</td>\n",
       "      <td>2017-12-07 09:09:04.420</td>\n",
       "      <td>2017-12-07 09:16:42.374</td>\n",
       "      <td>78</td>\n",
       "      <td>Folsom St at 9th St</td>\n",
       "      <td>37.773717</td>\n",
       "      <td>-122.411647</td>\n",
       "      <td>284</td>\n",
       "      <td>Yerba Buena Center for the Arts (Howard St at ...</td>\n",
       "      <td>37.784872</td>\n",
       "      <td>-122.400876</td>\n",
       "      <td>796</td>\n",
       "      <td>Customer</td>\n",
       "      <td>1983.0</td>\n",
       "      <td>Male</td>\n",
       "    </tr>\n",
       "    <tr>\n",
       "      <th>75395</th>\n",
       "      <td>227</td>\n",
       "      <td>2017-12-04 17:51:03.433</td>\n",
       "      <td>2017-12-04 17:54:51.354</td>\n",
       "      <td>8</td>\n",
       "      <td>The Embarcadero at Vallejo St</td>\n",
       "      <td>37.799953</td>\n",
       "      <td>-122.398525</td>\n",
       "      <td>16</td>\n",
       "      <td>Steuart St at Market St</td>\n",
       "      <td>37.794130</td>\n",
       "      <td>-122.394430</td>\n",
       "      <td>1353</td>\n",
       "      <td>Subscriber</td>\n",
       "      <td>1972.0</td>\n",
       "      <td>Female</td>\n",
       "    </tr>\n",
       "    <tr>\n",
       "      <th>116164</th>\n",
       "      <td>389</td>\n",
       "      <td>2017-11-20 17:28:29.373</td>\n",
       "      <td>2017-11-20 17:34:58.376</td>\n",
       "      <td>49</td>\n",
       "      <td>S Park St at 3rd St</td>\n",
       "      <td>37.780760</td>\n",
       "      <td>-122.394989</td>\n",
       "      <td>21</td>\n",
       "      <td>Montgomery St BART Station (Market St at 2nd St)</td>\n",
       "      <td>37.789625</td>\n",
       "      <td>-122.400811</td>\n",
       "      <td>3180</td>\n",
       "      <td>Subscriber</td>\n",
       "      <td>1972.0</td>\n",
       "      <td>Male</td>\n",
       "    </tr>\n",
       "    <tr>\n",
       "      <th>137006</th>\n",
       "      <td>306</td>\n",
       "      <td>2017-11-13 20:23:02.310</td>\n",
       "      <td>2017-11-13 20:28:09.227</td>\n",
       "      <td>152</td>\n",
       "      <td>47th St at San Pablo Ave</td>\n",
       "      <td>37.835632</td>\n",
       "      <td>-122.281051</td>\n",
       "      <td>149</td>\n",
       "      <td>Emeryville Town Hall</td>\n",
       "      <td>37.831275</td>\n",
       "      <td>-122.285633</td>\n",
       "      <td>794</td>\n",
       "      <td>Customer</td>\n",
       "      <td>1970.0</td>\n",
       "      <td>Male</td>\n",
       "    </tr>\n",
       "    <tr>\n",
       "      <th>247327</th>\n",
       "      <td>405</td>\n",
       "      <td>2017-10-13 09:25:36.776</td>\n",
       "      <td>2017-10-13 09:32:22.652</td>\n",
       "      <td>30</td>\n",
       "      <td>San Francisco Caltrain (Townsend St at 4th St)</td>\n",
       "      <td>37.776598</td>\n",
       "      <td>-122.395282</td>\n",
       "      <td>36</td>\n",
       "      <td>Folsom St at 3rd St</td>\n",
       "      <td>37.783830</td>\n",
       "      <td>-122.398870</td>\n",
       "      <td>224</td>\n",
       "      <td>Subscriber</td>\n",
       "      <td>1986.0</td>\n",
       "      <td>Male</td>\n",
       "    </tr>\n",
       "    <tr>\n",
       "      <th>270049</th>\n",
       "      <td>636</td>\n",
       "      <td>2017-10-06 13:22:43.024</td>\n",
       "      <td>2017-10-06 13:33:19.226</td>\n",
       "      <td>146</td>\n",
       "      <td>30th St at San Jose Ave</td>\n",
       "      <td>37.742314</td>\n",
       "      <td>-122.423180</td>\n",
       "      <td>123</td>\n",
       "      <td>Folsom St at 19th St</td>\n",
       "      <td>37.760594</td>\n",
       "      <td>-122.414817</td>\n",
       "      <td>2456</td>\n",
       "      <td>Customer</td>\n",
       "      <td>1982.0</td>\n",
       "      <td>Male</td>\n",
       "    </tr>\n",
       "    <tr>\n",
       "      <th>279531</th>\n",
       "      <td>534</td>\n",
       "      <td>2017-10-04 09:03:00.607</td>\n",
       "      <td>2017-10-04 09:11:54.818</td>\n",
       "      <td>193</td>\n",
       "      <td>Grand Ave at Santa Clara Ave</td>\n",
       "      <td>37.812744</td>\n",
       "      <td>-122.247215</td>\n",
       "      <td>182</td>\n",
       "      <td>19th Street BART Station</td>\n",
       "      <td>37.809013</td>\n",
       "      <td>-122.268247</td>\n",
       "      <td>3107</td>\n",
       "      <td>Customer</td>\n",
       "      <td>1984.0</td>\n",
       "      <td>Male</td>\n",
       "    </tr>\n",
       "    <tr>\n",
       "      <th>304501</th>\n",
       "      <td>370</td>\n",
       "      <td>2017-09-27 09:08:34.218</td>\n",
       "      <td>2017-09-27 09:14:44.603</td>\n",
       "      <td>30</td>\n",
       "      <td>San Francisco Caltrain (Townsend St at 4th St)</td>\n",
       "      <td>37.776598</td>\n",
       "      <td>-122.395282</td>\n",
       "      <td>45</td>\n",
       "      <td>5th St at Howard St</td>\n",
       "      <td>37.781752</td>\n",
       "      <td>-122.405127</td>\n",
       "      <td>3065</td>\n",
       "      <td>Subscriber</td>\n",
       "      <td>1990.0</td>\n",
       "      <td>Male</td>\n",
       "    </tr>\n",
       "    <tr>\n",
       "      <th>311959</th>\n",
       "      <td>484</td>\n",
       "      <td>2017-09-25 09:53:17.311</td>\n",
       "      <td>2017-09-25 10:01:21.884</td>\n",
       "      <td>109</td>\n",
       "      <td>17th St at Valencia St</td>\n",
       "      <td>37.763316</td>\n",
       "      <td>-122.421904</td>\n",
       "      <td>58</td>\n",
       "      <td>Market St at 10th St</td>\n",
       "      <td>37.776619</td>\n",
       "      <td>-122.417385</td>\n",
       "      <td>2411</td>\n",
       "      <td>Subscriber</td>\n",
       "      <td>1971.0</td>\n",
       "      <td>Male</td>\n",
       "    </tr>\n",
       "    <tr>\n",
       "      <th>348946</th>\n",
       "      <td>461</td>\n",
       "      <td>2017-09-14 08:52:17.189</td>\n",
       "      <td>2017-09-14 08:59:58.810</td>\n",
       "      <td>178</td>\n",
       "      <td>Broadway at 30th St</td>\n",
       "      <td>37.819381</td>\n",
       "      <td>-122.261928</td>\n",
       "      <td>7</td>\n",
       "      <td>Frank H Ogawa Plaza</td>\n",
       "      <td>37.804562</td>\n",
       "      <td>-122.271738</td>\n",
       "      <td>1231</td>\n",
       "      <td>Subscriber</td>\n",
       "      <td>1984.0</td>\n",
       "      <td>Female</td>\n",
       "    </tr>\n",
       "    <tr>\n",
       "      <th>417715</th>\n",
       "      <td>638</td>\n",
       "      <td>2017-08-22 18:54:31.111</td>\n",
       "      <td>2017-08-22 19:05:09.368</td>\n",
       "      <td>6</td>\n",
       "      <td>The Embarcadero at Sansome St</td>\n",
       "      <td>37.804770</td>\n",
       "      <td>-122.403234</td>\n",
       "      <td>15</td>\n",
       "      <td>San Francisco Ferry Building (Harry Bridges Pl...</td>\n",
       "      <td>37.795392</td>\n",
       "      <td>-122.394203</td>\n",
       "      <td>48</td>\n",
       "      <td>Subscriber</td>\n",
       "      <td>1989.0</td>\n",
       "      <td>Male</td>\n",
       "    </tr>\n",
       "  </tbody>\n",
       "</table>\n",
       "</div>"
      ],
      "text/plain": [
       "        duration_sec              start_time                end_time  \\\n",
       "52592            474 2017-12-11 08:30:30.571 2017-12-11 08:38:25.257   \n",
       "64524            457 2017-12-07 09:09:04.420 2017-12-07 09:16:42.374   \n",
       "75395            227 2017-12-04 17:51:03.433 2017-12-04 17:54:51.354   \n",
       "116164           389 2017-11-20 17:28:29.373 2017-11-20 17:34:58.376   \n",
       "137006           306 2017-11-13 20:23:02.310 2017-11-13 20:28:09.227   \n",
       "247327           405 2017-10-13 09:25:36.776 2017-10-13 09:32:22.652   \n",
       "270049           636 2017-10-06 13:22:43.024 2017-10-06 13:33:19.226   \n",
       "279531           534 2017-10-04 09:03:00.607 2017-10-04 09:11:54.818   \n",
       "304501           370 2017-09-27 09:08:34.218 2017-09-27 09:14:44.603   \n",
       "311959           484 2017-09-25 09:53:17.311 2017-09-25 10:01:21.884   \n",
       "348946           461 2017-09-14 08:52:17.189 2017-09-14 08:59:58.810   \n",
       "417715           638 2017-08-22 18:54:31.111 2017-08-22 19:05:09.368   \n",
       "\n",
       "        start_station_id                              start_station_name  \\\n",
       "52592                 23                   The Embarcadero at Steuart St   \n",
       "64524                 78                             Folsom St at 9th St   \n",
       "75395                  8                   The Embarcadero at Vallejo St   \n",
       "116164                49                             S Park St at 3rd St   \n",
       "137006               152                        47th St at San Pablo Ave   \n",
       "247327                30  San Francisco Caltrain (Townsend St at 4th St)   \n",
       "270049               146                         30th St at San Jose Ave   \n",
       "279531               193                    Grand Ave at Santa Clara Ave   \n",
       "304501                30  San Francisco Caltrain (Townsend St at 4th St)   \n",
       "311959               109                          17th St at Valencia St   \n",
       "348946               178                             Broadway at 30th St   \n",
       "417715                 6                   The Embarcadero at Sansome St   \n",
       "\n",
       "        start_station_latitude  start_station_longitude  end_station_id  \\\n",
       "52592                37.791464              -122.391034               6   \n",
       "64524                37.773717              -122.411647             284   \n",
       "75395                37.799953              -122.398525              16   \n",
       "116164               37.780760              -122.394989              21   \n",
       "137006               37.835632              -122.281051             149   \n",
       "247327               37.776598              -122.395282              36   \n",
       "270049               37.742314              -122.423180             123   \n",
       "279531               37.812744              -122.247215             182   \n",
       "304501               37.776598              -122.395282              45   \n",
       "311959               37.763316              -122.421904              58   \n",
       "348946               37.819381              -122.261928               7   \n",
       "417715               37.804770              -122.403234              15   \n",
       "\n",
       "                                         end_station_name  \\\n",
       "52592                       The Embarcadero at Sansome St   \n",
       "64524   Yerba Buena Center for the Arts (Howard St at ...   \n",
       "75395                             Steuart St at Market St   \n",
       "116164   Montgomery St BART Station (Market St at 2nd St)   \n",
       "137006                               Emeryville Town Hall   \n",
       "247327                                Folsom St at 3rd St   \n",
       "270049                               Folsom St at 19th St   \n",
       "279531                           19th Street BART Station   \n",
       "304501                                5th St at Howard St   \n",
       "311959                               Market St at 10th St   \n",
       "348946                                Frank H Ogawa Plaza   \n",
       "417715  San Francisco Ferry Building (Harry Bridges Pl...   \n",
       "\n",
       "        end_station_latitude  end_station_longitude  bike_id   user_type  \\\n",
       "52592              37.804770            -122.403234       71  Subscriber   \n",
       "64524              37.784872            -122.400876      796    Customer   \n",
       "75395              37.794130            -122.394430     1353  Subscriber   \n",
       "116164             37.789625            -122.400811     3180  Subscriber   \n",
       "137006             37.831275            -122.285633      794    Customer   \n",
       "247327             37.783830            -122.398870      224  Subscriber   \n",
       "270049             37.760594            -122.414817     2456    Customer   \n",
       "279531             37.809013            -122.268247     3107    Customer   \n",
       "304501             37.781752            -122.405127     3065  Subscriber   \n",
       "311959             37.776619            -122.417385     2411  Subscriber   \n",
       "348946             37.804562            -122.271738     1231  Subscriber   \n",
       "417715             37.795392            -122.394203       48  Subscriber   \n",
       "\n",
       "        member_birth_year member_gender  \n",
       "52592              1995.0          Male  \n",
       "64524              1983.0          Male  \n",
       "75395              1972.0        Female  \n",
       "116164             1972.0          Male  \n",
       "137006             1970.0          Male  \n",
       "247327             1986.0          Male  \n",
       "270049             1982.0          Male  \n",
       "279531             1984.0          Male  \n",
       "304501             1990.0          Male  \n",
       "311959             1971.0          Male  \n",
       "348946             1984.0        Female  \n",
       "417715             1989.0          Male  "
      ]
     },
     "execution_count": 9,
     "metadata": {},
     "output_type": "execute_result"
    }
   ],
   "source": [
    "bike2017[bike2017['start_time'].duplicated()]"
   ]
  },
  {
   "cell_type": "code",
   "execution_count": 10,
   "metadata": {},
   "outputs": [
    {
     "data": {
      "text/html": [
       "<div>\n",
       "<style scoped>\n",
       "    .dataframe tbody tr th:only-of-type {\n",
       "        vertical-align: middle;\n",
       "    }\n",
       "\n",
       "    .dataframe tbody tr th {\n",
       "        vertical-align: top;\n",
       "    }\n",
       "\n",
       "    .dataframe thead th {\n",
       "        text-align: right;\n",
       "    }\n",
       "</style>\n",
       "<table border=\"1\" class=\"dataframe\">\n",
       "  <thead>\n",
       "    <tr style=\"text-align: right;\">\n",
       "      <th></th>\n",
       "      <th>duration_sec</th>\n",
       "      <th>start_time</th>\n",
       "      <th>end_time</th>\n",
       "      <th>start_station_id</th>\n",
       "      <th>start_station_name</th>\n",
       "      <th>start_station_latitude</th>\n",
       "      <th>start_station_longitude</th>\n",
       "      <th>end_station_id</th>\n",
       "      <th>end_station_name</th>\n",
       "      <th>end_station_latitude</th>\n",
       "      <th>end_station_longitude</th>\n",
       "      <th>bike_id</th>\n",
       "      <th>user_type</th>\n",
       "      <th>member_birth_year</th>\n",
       "      <th>member_gender</th>\n",
       "    </tr>\n",
       "  </thead>\n",
       "  <tbody>\n",
       "    <tr>\n",
       "      <th>30801</th>\n",
       "      <td>501</td>\n",
       "      <td>2017-12-16 17:56:57.409</td>\n",
       "      <td>2017-12-16 18:05:18.746</td>\n",
       "      <td>305</td>\n",
       "      <td>Ryland Park</td>\n",
       "      <td>37.342725</td>\n",
       "      <td>-121.895617</td>\n",
       "      <td>280</td>\n",
       "      <td>San Fernando at 7th St</td>\n",
       "      <td>37.337246</td>\n",
       "      <td>-121.883074</td>\n",
       "      <td>1388</td>\n",
       "      <td>Subscriber</td>\n",
       "      <td>1988.0</td>\n",
       "      <td>Male</td>\n",
       "    </tr>\n",
       "    <tr>\n",
       "      <th>84971</th>\n",
       "      <td>814</td>\n",
       "      <td>2017-12-01 11:14:14.152</td>\n",
       "      <td>2017-12-01 11:27:48.583</td>\n",
       "      <td>78</td>\n",
       "      <td>Folsom St at 9th St</td>\n",
       "      <td>37.773717</td>\n",
       "      <td>-122.411647</td>\n",
       "      <td>66</td>\n",
       "      <td>3rd St at Townsend St</td>\n",
       "      <td>37.778742</td>\n",
       "      <td>-122.392741</td>\n",
       "      <td>2926</td>\n",
       "      <td>Subscriber</td>\n",
       "      <td>1986.0</td>\n",
       "      <td>Female</td>\n",
       "    </tr>\n",
       "    <tr>\n",
       "      <th>98914</th>\n",
       "      <td>593</td>\n",
       "      <td>2017-11-28 07:52:45.739</td>\n",
       "      <td>2017-11-28 08:02:38.854</td>\n",
       "      <td>21</td>\n",
       "      <td>Montgomery St BART Station (Market St at 2nd St)</td>\n",
       "      <td>37.789625</td>\n",
       "      <td>-122.400811</td>\n",
       "      <td>64</td>\n",
       "      <td>5th St at Brannan St</td>\n",
       "      <td>37.776754</td>\n",
       "      <td>-122.399018</td>\n",
       "      <td>1159</td>\n",
       "      <td>Subscriber</td>\n",
       "      <td>1995.0</td>\n",
       "      <td>Male</td>\n",
       "    </tr>\n",
       "    <tr>\n",
       "      <th>129641</th>\n",
       "      <td>388</td>\n",
       "      <td>2017-11-15 17:47:41.724</td>\n",
       "      <td>2017-11-15 17:54:10.340</td>\n",
       "      <td>25</td>\n",
       "      <td>Howard St at 2nd St</td>\n",
       "      <td>37.787522</td>\n",
       "      <td>-122.397405</td>\n",
       "      <td>67</td>\n",
       "      <td>San Francisco Caltrain Station 2  (Townsend St...</td>\n",
       "      <td>37.776639</td>\n",
       "      <td>-122.395526</td>\n",
       "      <td>437</td>\n",
       "      <td>Subscriber</td>\n",
       "      <td>1982.0</td>\n",
       "      <td>Male</td>\n",
       "    </tr>\n",
       "    <tr>\n",
       "      <th>135805</th>\n",
       "      <td>1156</td>\n",
       "      <td>2017-11-14 08:39:39.580</td>\n",
       "      <td>2017-11-14 08:58:56.447</td>\n",
       "      <td>39</td>\n",
       "      <td>Scott St at Golden Gate Ave</td>\n",
       "      <td>37.778999</td>\n",
       "      <td>-122.436861</td>\n",
       "      <td>20</td>\n",
       "      <td>Mechanics Monument Plaza (Market St at Bush St)</td>\n",
       "      <td>37.791300</td>\n",
       "      <td>-122.399051</td>\n",
       "      <td>2072</td>\n",
       "      <td>Subscriber</td>\n",
       "      <td>1985.0</td>\n",
       "      <td>Male</td>\n",
       "    </tr>\n",
       "    <tr>\n",
       "      <th>160082</th>\n",
       "      <td>990</td>\n",
       "      <td>2017-11-07 09:36:45.214</td>\n",
       "      <td>2017-11-07 09:53:15.215</td>\n",
       "      <td>141</td>\n",
       "      <td>Valencia St at Cesar Chavez St</td>\n",
       "      <td>37.747998</td>\n",
       "      <td>-122.420219</td>\n",
       "      <td>4</td>\n",
       "      <td>Cyril Magnin St at Ellis St</td>\n",
       "      <td>37.785881</td>\n",
       "      <td>-122.408915</td>\n",
       "      <td>3001</td>\n",
       "      <td>Subscriber</td>\n",
       "      <td>1985.0</td>\n",
       "      <td>Male</td>\n",
       "    </tr>\n",
       "    <tr>\n",
       "      <th>181781</th>\n",
       "      <td>553</td>\n",
       "      <td>2017-11-01 07:55:20.948</td>\n",
       "      <td>2017-11-01 08:04:34.077</td>\n",
       "      <td>189</td>\n",
       "      <td>Genoa St at 55th St</td>\n",
       "      <td>37.839649</td>\n",
       "      <td>-122.271756</td>\n",
       "      <td>176</td>\n",
       "      <td>MacArthur BART Station</td>\n",
       "      <td>37.828410</td>\n",
       "      <td>-122.266315</td>\n",
       "      <td>2705</td>\n",
       "      <td>Subscriber</td>\n",
       "      <td>1981.0</td>\n",
       "      <td>Female</td>\n",
       "    </tr>\n",
       "    <tr>\n",
       "      <th>195509</th>\n",
       "      <td>721</td>\n",
       "      <td>2017-10-27 17:20:12.473</td>\n",
       "      <td>2017-10-27 17:32:13.649</td>\n",
       "      <td>145</td>\n",
       "      <td>29th St at Church St</td>\n",
       "      <td>37.743684</td>\n",
       "      <td>-122.426806</td>\n",
       "      <td>99</td>\n",
       "      <td>Folsom St at 15th St</td>\n",
       "      <td>37.767037</td>\n",
       "      <td>-122.415443</td>\n",
       "      <td>906</td>\n",
       "      <td>Subscriber</td>\n",
       "      <td>1964.0</td>\n",
       "      <td>Female</td>\n",
       "    </tr>\n",
       "    <tr>\n",
       "      <th>208177</th>\n",
       "      <td>123</td>\n",
       "      <td>2017-10-24 19:03:04.384</td>\n",
       "      <td>2017-10-24 19:05:08.092</td>\n",
       "      <td>115</td>\n",
       "      <td>Jackson Playground</td>\n",
       "      <td>37.765026</td>\n",
       "      <td>-122.398773</td>\n",
       "      <td>114</td>\n",
       "      <td>Rhode Island St at 17th St</td>\n",
       "      <td>37.764478</td>\n",
       "      <td>-122.402570</td>\n",
       "      <td>688</td>\n",
       "      <td>Subscriber</td>\n",
       "      <td>1984.0</td>\n",
       "      <td>Female</td>\n",
       "    </tr>\n",
       "    <tr>\n",
       "      <th>266799</th>\n",
       "      <td>345</td>\n",
       "      <td>2017-10-07 13:57:43.356</td>\n",
       "      <td>2017-10-07 14:03:29.193</td>\n",
       "      <td>193</td>\n",
       "      <td>Grand Ave at Santa Clara Ave</td>\n",
       "      <td>37.812744</td>\n",
       "      <td>-122.247215</td>\n",
       "      <td>197</td>\n",
       "      <td>El Embarcadero at Grand Ave</td>\n",
       "      <td>37.808848</td>\n",
       "      <td>-122.249680</td>\n",
       "      <td>1451</td>\n",
       "      <td>Customer</td>\n",
       "      <td>1992.0</td>\n",
       "      <td>Female</td>\n",
       "    </tr>\n",
       "    <tr>\n",
       "      <th>297834</th>\n",
       "      <td>591</td>\n",
       "      <td>2017-09-28 18:37:55.971</td>\n",
       "      <td>2017-09-28 18:47:47.365</td>\n",
       "      <td>23</td>\n",
       "      <td>The Embarcadero at Steuart St</td>\n",
       "      <td>37.791464</td>\n",
       "      <td>-122.391034</td>\n",
       "      <td>30</td>\n",
       "      <td>San Francisco Caltrain (Townsend St at 4th St)</td>\n",
       "      <td>37.776598</td>\n",
       "      <td>-122.395282</td>\n",
       "      <td>642</td>\n",
       "      <td>Subscriber</td>\n",
       "      <td>1986.0</td>\n",
       "      <td>Male</td>\n",
       "    </tr>\n",
       "    <tr>\n",
       "      <th>298231</th>\n",
       "      <td>220</td>\n",
       "      <td>2017-09-28 17:51:45.204</td>\n",
       "      <td>2017-09-28 17:55:25.583</td>\n",
       "      <td>21</td>\n",
       "      <td>Montgomery St BART Station (Market St at 2nd St)</td>\n",
       "      <td>37.789625</td>\n",
       "      <td>-122.400811</td>\n",
       "      <td>3</td>\n",
       "      <td>Powell St BART Station (Market St at 4th St)</td>\n",
       "      <td>37.786375</td>\n",
       "      <td>-122.404904</td>\n",
       "      <td>1662</td>\n",
       "      <td>Customer</td>\n",
       "      <td>1971.0</td>\n",
       "      <td>Male</td>\n",
       "    </tr>\n",
       "    <tr>\n",
       "      <th>332915</th>\n",
       "      <td>539</td>\n",
       "      <td>2017-09-19 08:35:08.856</td>\n",
       "      <td>2017-09-19 08:44:08.632</td>\n",
       "      <td>67</td>\n",
       "      <td>San Francisco Caltrain Station 2  (Townsend St...</td>\n",
       "      <td>37.776639</td>\n",
       "      <td>-122.395526</td>\n",
       "      <td>19</td>\n",
       "      <td>Post St at Kearny St</td>\n",
       "      <td>37.788975</td>\n",
       "      <td>-122.403452</td>\n",
       "      <td>671</td>\n",
       "      <td>Subscriber</td>\n",
       "      <td>1972.0</td>\n",
       "      <td>Male</td>\n",
       "    </tr>\n",
       "    <tr>\n",
       "      <th>348382</th>\n",
       "      <td>281</td>\n",
       "      <td>2017-09-14 10:35:38.000</td>\n",
       "      <td>2017-09-14 10:40:19.876</td>\n",
       "      <td>162</td>\n",
       "      <td>Franklin St at 9th St</td>\n",
       "      <td>37.800516</td>\n",
       "      <td>-122.272080</td>\n",
       "      <td>163</td>\n",
       "      <td>Lake Merritt BART Station</td>\n",
       "      <td>37.797320</td>\n",
       "      <td>-122.265320</td>\n",
       "      <td>1435</td>\n",
       "      <td>Subscriber</td>\n",
       "      <td>1982.0</td>\n",
       "      <td>Male</td>\n",
       "    </tr>\n",
       "    <tr>\n",
       "      <th>358650</th>\n",
       "      <td>559</td>\n",
       "      <td>2017-09-11 16:16:49.095</td>\n",
       "      <td>2017-09-11 16:26:08.867</td>\n",
       "      <td>324</td>\n",
       "      <td>Union Square (Powell St at Post St)</td>\n",
       "      <td>37.788300</td>\n",
       "      <td>-122.408531</td>\n",
       "      <td>24</td>\n",
       "      <td>Spear St at Folsom St</td>\n",
       "      <td>37.789677</td>\n",
       "      <td>-122.390428</td>\n",
       "      <td>1027</td>\n",
       "      <td>Subscriber</td>\n",
       "      <td>1976.0</td>\n",
       "      <td>Male</td>\n",
       "    </tr>\n",
       "    <tr>\n",
       "      <th>361834</th>\n",
       "      <td>385</td>\n",
       "      <td>2017-09-10 14:31:18.188</td>\n",
       "      <td>2017-09-10 14:37:43.244</td>\n",
       "      <td>86</td>\n",
       "      <td>Market St at Dolores St</td>\n",
       "      <td>37.769305</td>\n",
       "      <td>-122.426826</td>\n",
       "      <td>58</td>\n",
       "      <td>Market St at 10th St</td>\n",
       "      <td>37.776619</td>\n",
       "      <td>-122.417385</td>\n",
       "      <td>1674</td>\n",
       "      <td>Subscriber</td>\n",
       "      <td>1988.0</td>\n",
       "      <td>Male</td>\n",
       "    </tr>\n",
       "    <tr>\n",
       "      <th>374562</th>\n",
       "      <td>297</td>\n",
       "      <td>2017-09-06 16:55:53.442</td>\n",
       "      <td>2017-09-06 17:00:51.038</td>\n",
       "      <td>67</td>\n",
       "      <td>San Francisco Caltrain Station 2  (Townsend St...</td>\n",
       "      <td>37.776639</td>\n",
       "      <td>-122.395526</td>\n",
       "      <td>321</td>\n",
       "      <td>5th at Folsom</td>\n",
       "      <td>37.780146</td>\n",
       "      <td>-122.403071</td>\n",
       "      <td>2392</td>\n",
       "      <td>Subscriber</td>\n",
       "      <td>1968.0</td>\n",
       "      <td>Male</td>\n",
       "    </tr>\n",
       "    <tr>\n",
       "      <th>415101</th>\n",
       "      <td>209</td>\n",
       "      <td>2017-08-23 17:09:07.291</td>\n",
       "      <td>2017-08-23 17:12:36.513</td>\n",
       "      <td>173</td>\n",
       "      <td>Shattuck Ave at 55th Ave</td>\n",
       "      <td>37.840364</td>\n",
       "      <td>-122.264488</td>\n",
       "      <td>174</td>\n",
       "      <td>Shattuck Ave at 51st St</td>\n",
       "      <td>37.836801</td>\n",
       "      <td>-122.264004</td>\n",
       "      <td>1322</td>\n",
       "      <td>Subscriber</td>\n",
       "      <td>1984.0</td>\n",
       "      <td>Male</td>\n",
       "    </tr>\n",
       "    <tr>\n",
       "      <th>450471</th>\n",
       "      <td>479</td>\n",
       "      <td>2017-08-10 12:27:26.202</td>\n",
       "      <td>2017-08-10 12:35:25.814</td>\n",
       "      <td>19</td>\n",
       "      <td>Post St at Kearny St</td>\n",
       "      <td>37.788975</td>\n",
       "      <td>-122.403452</td>\n",
       "      <td>81</td>\n",
       "      <td>Berry St at 4th St</td>\n",
       "      <td>37.775880</td>\n",
       "      <td>-122.393170</td>\n",
       "      <td>2644</td>\n",
       "      <td>Subscriber</td>\n",
       "      <td>1976.0</td>\n",
       "      <td>Male</td>\n",
       "    </tr>\n",
       "  </tbody>\n",
       "</table>\n",
       "</div>"
      ],
      "text/plain": [
       "        duration_sec              start_time                end_time  \\\n",
       "30801            501 2017-12-16 17:56:57.409 2017-12-16 18:05:18.746   \n",
       "84971            814 2017-12-01 11:14:14.152 2017-12-01 11:27:48.583   \n",
       "98914            593 2017-11-28 07:52:45.739 2017-11-28 08:02:38.854   \n",
       "129641           388 2017-11-15 17:47:41.724 2017-11-15 17:54:10.340   \n",
       "135805          1156 2017-11-14 08:39:39.580 2017-11-14 08:58:56.447   \n",
       "160082           990 2017-11-07 09:36:45.214 2017-11-07 09:53:15.215   \n",
       "181781           553 2017-11-01 07:55:20.948 2017-11-01 08:04:34.077   \n",
       "195509           721 2017-10-27 17:20:12.473 2017-10-27 17:32:13.649   \n",
       "208177           123 2017-10-24 19:03:04.384 2017-10-24 19:05:08.092   \n",
       "266799           345 2017-10-07 13:57:43.356 2017-10-07 14:03:29.193   \n",
       "297834           591 2017-09-28 18:37:55.971 2017-09-28 18:47:47.365   \n",
       "298231           220 2017-09-28 17:51:45.204 2017-09-28 17:55:25.583   \n",
       "332915           539 2017-09-19 08:35:08.856 2017-09-19 08:44:08.632   \n",
       "348382           281 2017-09-14 10:35:38.000 2017-09-14 10:40:19.876   \n",
       "358650           559 2017-09-11 16:16:49.095 2017-09-11 16:26:08.867   \n",
       "361834           385 2017-09-10 14:31:18.188 2017-09-10 14:37:43.244   \n",
       "374562           297 2017-09-06 16:55:53.442 2017-09-06 17:00:51.038   \n",
       "415101           209 2017-08-23 17:09:07.291 2017-08-23 17:12:36.513   \n",
       "450471           479 2017-08-10 12:27:26.202 2017-08-10 12:35:25.814   \n",
       "\n",
       "        start_station_id                                 start_station_name  \\\n",
       "30801                305                                        Ryland Park   \n",
       "84971                 78                                Folsom St at 9th St   \n",
       "98914                 21   Montgomery St BART Station (Market St at 2nd St)   \n",
       "129641                25                                Howard St at 2nd St   \n",
       "135805                39                        Scott St at Golden Gate Ave   \n",
       "160082               141                     Valencia St at Cesar Chavez St   \n",
       "181781               189                                Genoa St at 55th St   \n",
       "195509               145                               29th St at Church St   \n",
       "208177               115                                 Jackson Playground   \n",
       "266799               193                       Grand Ave at Santa Clara Ave   \n",
       "297834                23                      The Embarcadero at Steuart St   \n",
       "298231                21   Montgomery St BART Station (Market St at 2nd St)   \n",
       "332915                67  San Francisco Caltrain Station 2  (Townsend St...   \n",
       "348382               162                              Franklin St at 9th St   \n",
       "358650               324                Union Square (Powell St at Post St)   \n",
       "361834                86                            Market St at Dolores St   \n",
       "374562                67  San Francisco Caltrain Station 2  (Townsend St...   \n",
       "415101               173                           Shattuck Ave at 55th Ave   \n",
       "450471                19                               Post St at Kearny St   \n",
       "\n",
       "        start_station_latitude  start_station_longitude  end_station_id  \\\n",
       "30801                37.342725              -121.895617             280   \n",
       "84971                37.773717              -122.411647              66   \n",
       "98914                37.789625              -122.400811              64   \n",
       "129641               37.787522              -122.397405              67   \n",
       "135805               37.778999              -122.436861              20   \n",
       "160082               37.747998              -122.420219               4   \n",
       "181781               37.839649              -122.271756             176   \n",
       "195509               37.743684              -122.426806              99   \n",
       "208177               37.765026              -122.398773             114   \n",
       "266799               37.812744              -122.247215             197   \n",
       "297834               37.791464              -122.391034              30   \n",
       "298231               37.789625              -122.400811               3   \n",
       "332915               37.776639              -122.395526              19   \n",
       "348382               37.800516              -122.272080             163   \n",
       "358650               37.788300              -122.408531              24   \n",
       "361834               37.769305              -122.426826              58   \n",
       "374562               37.776639              -122.395526             321   \n",
       "415101               37.840364              -122.264488             174   \n",
       "450471               37.788975              -122.403452              81   \n",
       "\n",
       "                                         end_station_name  \\\n",
       "30801                              San Fernando at 7th St   \n",
       "84971                               3rd St at Townsend St   \n",
       "98914                                5th St at Brannan St   \n",
       "129641  San Francisco Caltrain Station 2  (Townsend St...   \n",
       "135805    Mechanics Monument Plaza (Market St at Bush St)   \n",
       "160082                        Cyril Magnin St at Ellis St   \n",
       "181781                             MacArthur BART Station   \n",
       "195509                               Folsom St at 15th St   \n",
       "208177                         Rhode Island St at 17th St   \n",
       "266799                        El Embarcadero at Grand Ave   \n",
       "297834     San Francisco Caltrain (Townsend St at 4th St)   \n",
       "298231       Powell St BART Station (Market St at 4th St)   \n",
       "332915                               Post St at Kearny St   \n",
       "348382                          Lake Merritt BART Station   \n",
       "358650                              Spear St at Folsom St   \n",
       "361834                               Market St at 10th St   \n",
       "374562                                      5th at Folsom   \n",
       "415101                            Shattuck Ave at 51st St   \n",
       "450471                                 Berry St at 4th St   \n",
       "\n",
       "        end_station_latitude  end_station_longitude  bike_id   user_type  \\\n",
       "30801              37.337246            -121.883074     1388  Subscriber   \n",
       "84971              37.778742            -122.392741     2926  Subscriber   \n",
       "98914              37.776754            -122.399018     1159  Subscriber   \n",
       "129641             37.776639            -122.395526      437  Subscriber   \n",
       "135805             37.791300            -122.399051     2072  Subscriber   \n",
       "160082             37.785881            -122.408915     3001  Subscriber   \n",
       "181781             37.828410            -122.266315     2705  Subscriber   \n",
       "195509             37.767037            -122.415443      906  Subscriber   \n",
       "208177             37.764478            -122.402570      688  Subscriber   \n",
       "266799             37.808848            -122.249680     1451    Customer   \n",
       "297834             37.776598            -122.395282      642  Subscriber   \n",
       "298231             37.786375            -122.404904     1662    Customer   \n",
       "332915             37.788975            -122.403452      671  Subscriber   \n",
       "348382             37.797320            -122.265320     1435  Subscriber   \n",
       "358650             37.789677            -122.390428     1027  Subscriber   \n",
       "361834             37.776619            -122.417385     1674  Subscriber   \n",
       "374562             37.780146            -122.403071     2392  Subscriber   \n",
       "415101             37.836801            -122.264004     1322  Subscriber   \n",
       "450471             37.775880            -122.393170     2644  Subscriber   \n",
       "\n",
       "        member_birth_year member_gender  \n",
       "30801              1988.0          Male  \n",
       "84971              1986.0        Female  \n",
       "98914              1995.0          Male  \n",
       "129641             1982.0          Male  \n",
       "135805             1985.0          Male  \n",
       "160082             1985.0          Male  \n",
       "181781             1981.0        Female  \n",
       "195509             1964.0        Female  \n",
       "208177             1984.0        Female  \n",
       "266799             1992.0        Female  \n",
       "297834             1986.0          Male  \n",
       "298231             1971.0          Male  \n",
       "332915             1972.0          Male  \n",
       "348382             1982.0          Male  \n",
       "358650             1976.0          Male  \n",
       "361834             1988.0          Male  \n",
       "374562             1968.0          Male  \n",
       "415101             1984.0          Male  \n",
       "450471             1976.0          Male  "
      ]
     },
     "execution_count": 10,
     "metadata": {},
     "output_type": "execute_result"
    }
   ],
   "source": [
    "bike2017[bike2017.duplicated(subset=['end_time'])]"
   ]
  },
  {
   "cell_type": "markdown",
   "metadata": {},
   "source": [
    "Taking a look at the start and end time duplicates we can see that they are totaly different rides. We dont hace to take any \n",
    "action. "
   ]
  },
  {
   "cell_type": "markdown",
   "metadata": {},
   "source": [
    "### Null values\n"
   ]
  },
  {
   "cell_type": "code",
   "execution_count": 11,
   "metadata": {},
   "outputs": [
    {
     "data": {
      "text/plain": [
       "Customer      61735\n",
       "Subscriber     4727\n",
       "Name: user_type, dtype: int64"
      ]
     },
     "execution_count": 11,
     "metadata": {},
     "output_type": "execute_result"
    }
   ],
   "source": [
    "nu=bike2017[bike2017['member_gender'].isnull()]\n",
    "nu['user_type'].value_counts()\n"
   ]
  },
  {
   "cell_type": "markdown",
   "metadata": {},
   "source": [
    "We can see that the majority of the  NaN values at 'user type' and 'gender' columns are at customers rides. \n",
    "I dont want to drop those rows because i need the customers data. "
   ]
  },
  {
   "cell_type": "markdown",
   "metadata": {},
   "source": [
    "### Quality and tidness issues"
   ]
  },
  {
   "cell_type": "markdown",
   "metadata": {},
   "source": [
    "1. I will make a column caled  'Customer_age' in ordere to make the data more user friendly.\n",
    "2. I will transform the ride duration fron seconds to minutes.\n",
    "3. I will make a new categorical column named 'general_runtime', seperating the ride duration at 'casual' and 'long' rides.\n",
    "4. I will make a new categorical column named 'Customer_age' , seperating the ages by decate.\n",
    "5. I will separete the start_date and 3 months. \"hour_start\", 'day_start','month_start' to help our analysis. \n",
    "\n"
   ]
  },
  {
   "cell_type": "markdown",
   "metadata": {},
   "source": [
    "## 1."
   ]
  },
  {
   "cell_type": "code",
   "execution_count": 12,
   "metadata": {},
   "outputs": [],
   "source": [
    "bike2017['Customer_age']=2019-bike2017['member_birth_year']\n",
    "bike2017=bike2017.drop('member_birth_year',axis=1)"
   ]
  },
  {
   "cell_type": "markdown",
   "metadata": {},
   "source": [
    "## 2."
   ]
  },
  {
   "cell_type": "code",
   "execution_count": 13,
   "metadata": {},
   "outputs": [],
   "source": [
    "bike2017['duration_sec']=bike2017['duration_sec']/60\n",
    "bike2017=bike2017.rename(columns={'duration_sec':'duration_min'})"
   ]
  },
  {
   "cell_type": "markdown",
   "metadata": {},
   "source": [
    "## 3."
   ]
  },
  {
   "cell_type": "code",
   "execution_count": 14,
   "metadata": {},
   "outputs": [],
   "source": [
    "bin_edges=[bike2017['duration_min'].min(),bike2017['duration_min'].mean(),bike2017['duration_min'].max()]\n",
    "bin_names=['casual','long']\n",
    "bike2017['general_runtime']=pd.cut(bike2017['duration_min'],bin_edges,labels=bin_names)"
   ]
  },
  {
   "cell_type": "markdown",
   "metadata": {},
   "source": [
    "## 4."
   ]
  },
  {
   "cell_type": "code",
   "execution_count": 15,
   "metadata": {},
   "outputs": [],
   "source": [
    "bin_edges=[20.000000,30,40,50,60,70,140]\n",
    "bin_names=['20s','30s','40s','50s','60s','>70']\n",
    "bike2017['Customer_decade']=pd.cut(bike2017['Customer_age'],bin_edges,labels=bin_names)"
   ]
  },
  {
   "cell_type": "markdown",
   "metadata": {},
   "source": [
    "## 5."
   ]
  },
  {
   "cell_type": "code",
   "execution_count": 16,
   "metadata": {},
   "outputs": [],
   "source": [
    "bike2017['hour_start']=bike2017['start_time'].dt.hour"
   ]
  },
  {
   "cell_type": "code",
   "execution_count": 17,
   "metadata": {},
   "outputs": [],
   "source": [
    "bike2017['day_start']=bike2017['start_time'].dt.weekday_name"
   ]
  },
  {
   "cell_type": "code",
   "execution_count": 18,
   "metadata": {},
   "outputs": [],
   "source": [
    "bike2017['month_start']=bike2017['start_time'].dt.month"
   ]
  },
  {
   "cell_type": "code",
   "execution_count": 19,
   "metadata": {},
   "outputs": [],
   "source": [
    "bike2017=bike2017.drop('start_time',axis=1)\n",
    "bike2017=bike2017.drop('end_time',axis=1)"
   ]
  },
  {
   "cell_type": "markdown",
   "metadata": {},
   "source": [
    "## Test"
   ]
  },
  {
   "cell_type": "code",
   "execution_count": 20,
   "metadata": {
    "scrolled": false
   },
   "outputs": [
    {
     "data": {
      "text/html": [
       "<div>\n",
       "<style scoped>\n",
       "    .dataframe tbody tr th:only-of-type {\n",
       "        vertical-align: middle;\n",
       "    }\n",
       "\n",
       "    .dataframe tbody tr th {\n",
       "        vertical-align: top;\n",
       "    }\n",
       "\n",
       "    .dataframe thead th {\n",
       "        text-align: right;\n",
       "    }\n",
       "</style>\n",
       "<table border=\"1\" class=\"dataframe\">\n",
       "  <thead>\n",
       "    <tr style=\"text-align: right;\">\n",
       "      <th></th>\n",
       "      <th>duration_min</th>\n",
       "      <th>start_station_id</th>\n",
       "      <th>start_station_name</th>\n",
       "      <th>start_station_latitude</th>\n",
       "      <th>start_station_longitude</th>\n",
       "      <th>end_station_id</th>\n",
       "      <th>end_station_name</th>\n",
       "      <th>end_station_latitude</th>\n",
       "      <th>end_station_longitude</th>\n",
       "      <th>bike_id</th>\n",
       "      <th>user_type</th>\n",
       "      <th>member_gender</th>\n",
       "      <th>Customer_age</th>\n",
       "      <th>general_runtime</th>\n",
       "      <th>Customer_decade</th>\n",
       "      <th>hour_start</th>\n",
       "      <th>day_start</th>\n",
       "      <th>month_start</th>\n",
       "    </tr>\n",
       "  </thead>\n",
       "  <tbody>\n",
       "    <tr>\n",
       "      <th>0</th>\n",
       "      <td>1335.166667</td>\n",
       "      <td>74</td>\n",
       "      <td>Laguna St at Hayes St</td>\n",
       "      <td>37.776435</td>\n",
       "      <td>-122.426244</td>\n",
       "      <td>43</td>\n",
       "      <td>San Francisco Public Library (Grove St at Hyde...</td>\n",
       "      <td>37.778768</td>\n",
       "      <td>-122.415929</td>\n",
       "      <td>96</td>\n",
       "      <td>Customer</td>\n",
       "      <td>Male</td>\n",
       "      <td>32.0</td>\n",
       "      <td>long</td>\n",
       "      <td>30s</td>\n",
       "      <td>16</td>\n",
       "      <td>Sunday</td>\n",
       "      <td>12</td>\n",
       "    </tr>\n",
       "    <tr>\n",
       "      <th>1</th>\n",
       "      <td>1313.333333</td>\n",
       "      <td>284</td>\n",
       "      <td>Yerba Buena Center for the Arts (Howard St at ...</td>\n",
       "      <td>37.784872</td>\n",
       "      <td>-122.400876</td>\n",
       "      <td>96</td>\n",
       "      <td>Dolores St at 15th St</td>\n",
       "      <td>37.766210</td>\n",
       "      <td>-122.426614</td>\n",
       "      <td>88</td>\n",
       "      <td>Customer</td>\n",
       "      <td>Female</td>\n",
       "      <td>54.0</td>\n",
       "      <td>long</td>\n",
       "      <td>50s</td>\n",
       "      <td>15</td>\n",
       "      <td>Sunday</td>\n",
       "      <td>12</td>\n",
       "    </tr>\n",
       "    <tr>\n",
       "      <th>2</th>\n",
       "      <td>762.800000</td>\n",
       "      <td>245</td>\n",
       "      <td>Downtown Berkeley BART</td>\n",
       "      <td>37.870348</td>\n",
       "      <td>-122.267764</td>\n",
       "      <td>245</td>\n",
       "      <td>Downtown Berkeley BART</td>\n",
       "      <td>37.870348</td>\n",
       "      <td>-122.267764</td>\n",
       "      <td>1094</td>\n",
       "      <td>Customer</td>\n",
       "      <td>NaN</td>\n",
       "      <td>NaN</td>\n",
       "      <td>long</td>\n",
       "      <td>NaN</td>\n",
       "      <td>22</td>\n",
       "      <td>Sunday</td>\n",
       "      <td>12</td>\n",
       "    </tr>\n",
       "    <tr>\n",
       "      <th>3</th>\n",
       "      <td>1036.200000</td>\n",
       "      <td>60</td>\n",
       "      <td>8th St at Ringold St</td>\n",
       "      <td>37.774520</td>\n",
       "      <td>-122.409449</td>\n",
       "      <td>5</td>\n",
       "      <td>Powell St BART Station (Market St at 5th St)</td>\n",
       "      <td>37.783899</td>\n",
       "      <td>-122.408445</td>\n",
       "      <td>2831</td>\n",
       "      <td>Customer</td>\n",
       "      <td>NaN</td>\n",
       "      <td>NaN</td>\n",
       "      <td>long</td>\n",
       "      <td>NaN</td>\n",
       "      <td>17</td>\n",
       "      <td>Sunday</td>\n",
       "      <td>12</td>\n",
       "    </tr>\n",
       "    <tr>\n",
       "      <th>4</th>\n",
       "      <td>726.716667</td>\n",
       "      <td>239</td>\n",
       "      <td>Bancroft Way at Telegraph Ave</td>\n",
       "      <td>37.868813</td>\n",
       "      <td>-122.258764</td>\n",
       "      <td>247</td>\n",
       "      <td>Fulton St at Bancroft Way</td>\n",
       "      <td>37.867789</td>\n",
       "      <td>-122.265896</td>\n",
       "      <td>3167</td>\n",
       "      <td>Subscriber</td>\n",
       "      <td>Female</td>\n",
       "      <td>22.0</td>\n",
       "      <td>long</td>\n",
       "      <td>20s</td>\n",
       "      <td>14</td>\n",
       "      <td>Sunday</td>\n",
       "      <td>12</td>\n",
       "    </tr>\n",
       "  </tbody>\n",
       "</table>\n",
       "</div>"
      ],
      "text/plain": [
       "   duration_min  start_station_id  \\\n",
       "0   1335.166667                74   \n",
       "1   1313.333333               284   \n",
       "2    762.800000               245   \n",
       "3   1036.200000                60   \n",
       "4    726.716667               239   \n",
       "\n",
       "                                  start_station_name  start_station_latitude  \\\n",
       "0                              Laguna St at Hayes St               37.776435   \n",
       "1  Yerba Buena Center for the Arts (Howard St at ...               37.784872   \n",
       "2                             Downtown Berkeley BART               37.870348   \n",
       "3                               8th St at Ringold St               37.774520   \n",
       "4                      Bancroft Way at Telegraph Ave               37.868813   \n",
       "\n",
       "   start_station_longitude  end_station_id  \\\n",
       "0              -122.426244              43   \n",
       "1              -122.400876              96   \n",
       "2              -122.267764             245   \n",
       "3              -122.409449               5   \n",
       "4              -122.258764             247   \n",
       "\n",
       "                                    end_station_name  end_station_latitude  \\\n",
       "0  San Francisco Public Library (Grove St at Hyde...             37.778768   \n",
       "1                              Dolores St at 15th St             37.766210   \n",
       "2                             Downtown Berkeley BART             37.870348   \n",
       "3       Powell St BART Station (Market St at 5th St)             37.783899   \n",
       "4                          Fulton St at Bancroft Way             37.867789   \n",
       "\n",
       "   end_station_longitude  bike_id   user_type member_gender  Customer_age  \\\n",
       "0            -122.415929       96    Customer          Male          32.0   \n",
       "1            -122.426614       88    Customer        Female          54.0   \n",
       "2            -122.267764     1094    Customer           NaN           NaN   \n",
       "3            -122.408445     2831    Customer           NaN           NaN   \n",
       "4            -122.265896     3167  Subscriber        Female          22.0   \n",
       "\n",
       "  general_runtime Customer_decade  hour_start day_start  month_start  \n",
       "0            long             30s          16    Sunday           12  \n",
       "1            long             50s          15    Sunday           12  \n",
       "2            long             NaN          22    Sunday           12  \n",
       "3            long             NaN          17    Sunday           12  \n",
       "4            long             20s          14    Sunday           12  "
      ]
     },
     "execution_count": 20,
     "metadata": {},
     "output_type": "execute_result"
    }
   ],
   "source": [
    "bike2017.head()"
   ]
  },
  {
   "cell_type": "code",
   "execution_count": 21,
   "metadata": {},
   "outputs": [],
   "source": [
    "bike2017['Customer_age'].fillna(value=bike2017.Customer_age.mean(),inplace=True)"
   ]
  },
  {
   "cell_type": "code",
   "execution_count": 22,
   "metadata": {},
   "outputs": [
    {
     "name": "stdout",
     "output_type": "stream",
     "text": [
      "<class 'pandas.core.frame.DataFrame'>\n",
      "RangeIndex: 519700 entries, 0 to 519699\n",
      "Data columns (total 18 columns):\n",
      "duration_min               519700 non-null float64\n",
      "start_station_id           519700 non-null int64\n",
      "start_station_name         519700 non-null object\n",
      "start_station_latitude     519700 non-null float64\n",
      "start_station_longitude    519700 non-null float64\n",
      "end_station_id             519700 non-null int64\n",
      "end_station_name           519700 non-null object\n",
      "end_station_latitude       519700 non-null float64\n",
      "end_station_longitude      519700 non-null float64\n",
      "bike_id                    519700 non-null int64\n",
      "user_type                  519700 non-null object\n",
      "member_gender              453238 non-null object\n",
      "Customer_age               519700 non-null float64\n",
      "general_runtime            519642 non-null category\n",
      "Customer_decade            452260 non-null category\n",
      "hour_start                 519700 non-null int64\n",
      "day_start                  519700 non-null object\n",
      "month_start                519700 non-null int64\n",
      "dtypes: category(2), float64(6), int64(5), object(5)\n",
      "memory usage: 64.4+ MB\n"
     ]
    }
   ],
   "source": [
    "bike2017.info()"
   ]
  },
  {
   "cell_type": "code",
   "execution_count": 23,
   "metadata": {},
   "outputs": [],
   "source": [
    "bike2017.to_csv('clean_bikes.csv')"
   ]
  },
  {
   "cell_type": "markdown",
   "metadata": {},
   "source": [
    "# 3 Exploratory analysis"
   ]
  },
  {
   "cell_type": "code",
   "execution_count": 24,
   "metadata": {},
   "outputs": [],
   "source": [
    "bike2017=pd.read_csv('clean_bikes.csv')"
   ]
  },
  {
   "cell_type": "code",
   "execution_count": 25,
   "metadata": {
    "scrolled": false
   },
   "outputs": [
    {
     "data": {
      "image/png": "[encoded data removed]",
      "text/plain": [
       "<Figure size 648x576 with 12 Axes>"
      ]
     },
     "metadata": {
      "needs_background": "light"
     },
     "output_type": "display_data"
    }
   ],
   "source": [
    "bike2017.hist(figsize=(9,8));"
   ]
  },
  {
   "cell_type": "code",
   "execution_count": 26,
   "metadata": {},
   "outputs": [
    {
     "name": "stdout",
     "output_type": "stream",
     "text": [
      "<class 'pandas.core.frame.DataFrame'>\n",
      "RangeIndex: 519700 entries, 0 to 519699\n",
      "Data columns (total 19 columns):\n",
      "Unnamed: 0                 519700 non-null int64\n",
      "duration_min               519700 non-null float64\n",
      "start_station_id           519700 non-null int64\n",
      "start_station_name         519700 non-null object\n",
      "start_station_latitude     519700 non-null float64\n",
      "start_station_longitude    519700 non-null float64\n",
      "end_station_id             519700 non-null int64\n",
      "end_station_name           519700 non-null object\n",
      "end_station_latitude       519700 non-null float64\n",
      "end_station_longitude      519700 non-null float64\n",
      "bike_id                    519700 non-null int64\n",
      "user_type                  519700 non-null object\n",
      "member_gender              453238 non-null object\n",
      "Customer_age               519700 non-null float64\n",
      "general_runtime            519642 non-null object\n",
      "Customer_decade            452260 non-null object\n",
      "hour_start                 519700 non-null int64\n",
      "day_start                  519700 non-null object\n",
      "month_start                519700 non-null int64\n",
      "dtypes: float64(6), int64(6), object(7)\n",
      "memory usage: 75.3+ MB\n"
     ]
    }
   ],
   "source": [
    "bike2017.info()"
   ]
  },
  {
   "cell_type": "markdown",
   "metadata": {},
   "source": [
    "## The structure of the dataset\n",
    "There are 519700 bike rides in the dataset with 19 features . Most variables are categorical."
   ]
  },
  {
   "cell_type": "markdown",
   "metadata": {},
   "source": [
    "## The main features of interest in my dataset.\n",
    "\n",
    "I'm most interested in figuring out how does every different biker group (gender, age, custormer-subscriber) behave and how the bike use change through time."
   ]
  },
  {
   "cell_type": "markdown",
   "metadata": {},
   "source": [
    "I'll start by looking at the distribution of the main variable of interest: duration"
   ]
  },
  {
   "cell_type": "code",
   "execution_count": 27,
   "metadata": {},
   "outputs": [
    {
     "data": {
      "image/png": "[encoded data removed]",
      "text/plain": [
       "<Figure size 432x288 with 1 Axes>"
      ]
     },
     "metadata": {
      "needs_background": "light"
     },
     "output_type": "display_data"
    }
   ],
   "source": [
    "bike2017.hist(['duration_min']);"
   ]
  },
  {
   "cell_type": "code",
   "execution_count": 28,
   "metadata": {},
   "outputs": [
    {
     "data": {
      "image/png": "[encoded data removed]",
      "text/plain": [
       "<Figure size 576x360 with 1 Axes>"
      ]
     },
     "metadata": {
      "needs_background": "light"
     },
     "output_type": "display_data"
    }
   ],
   "source": [
    "# there's a long tail in the distribution, so let's put it on a log scale instead\n",
    "log_binsize = 0.025\n",
    "bins = 10 ** np.arange(2.4, np.log10(bike2017['duration_min'].max())+log_binsize, log_binsize)\n",
    "\n",
    "plt.figure(figsize=[8, 5])\n",
    "plt.hist(data = bike2017, x = 'duration_min', bins = bins)\n",
    "plt.xscale('log')\n",
    "\n",
    "plt.xlabel('duration (min)')\n",
    "plt.show()"
   ]
  },
  {
   "cell_type": "markdown",
   "metadata": {},
   "source": [
    "Duration has a long-tailed distribution, with a lot of rides on the short duration end, and few on the long duration end. When plotted on a log-scale, the duration distribution keeps the same shape."
   ]
  },
  {
   "cell_type": "markdown",
   "metadata": {},
   "source": [
    "I want to check the duration distribution for the shortest rides"
   ]
  },
  {
   "cell_type": "code",
   "execution_count": 29,
   "metadata": {
    "scrolled": false
   },
   "outputs": [
    {
     "data": {
      "image/png": "[encoded data removed]",
      "text/plain": [
       "<Figure size 432x288 with 1 Axes>"
      ]
     },
     "metadata": {
      "needs_background": "light"
     },
     "output_type": "display_data"
    }
   ],
   "source": [
    "a=bike2017[bike2017['duration_min']<60]\n",
    "a.hist(['duration_min'],bins = 1000);"
   ]
  },
  {
   "cell_type": "markdown",
   "metadata": {},
   "source": [
    "We can see that the majority of the rides are between 3-5 mins"
   ]
  },
  {
   "cell_type": "code",
   "execution_count": 30,
   "metadata": {
    "scrolled": false
   },
   "outputs": [
    {
     "data": {
      "image/png": "[encoded data removed]",
      "text/plain": [
       "<Figure size 576x576 with 2 Axes>"
      ]
     },
     "metadata": {
      "needs_background": "light"
     },
     "output_type": "display_data"
    }
   ],
   "source": [
    "# let's plot all some categorical variables together to get an idea of each  variable's distribution.\n",
    "\n",
    "fig, ax = plt.subplots(nrows=2, figsize = [8,8])\n",
    "\n",
    "default_color = sb.color_palette()[0]\n",
    "sb.countplot(data = bike2017, x = 'Customer_decade', color = default_color, ax = ax[0])\n",
    "sb.countplot(data = bike2017, x = 'member_gender', color = default_color, ax = ax[1])\n",
    "\n",
    "plt.show()"
   ]
  },
  {
   "cell_type": "markdown",
   "metadata": {},
   "source": [
    "The bikers are generaly young with the majority in their 20s-30s. Additionaly the majority are men."
   ]
  },
  {
   "cell_type": "code",
   "execution_count": 31,
   "metadata": {},
   "outputs": [
    {
     "name": "stderr",
     "output_type": "stream",
     "text": [
      "C:\\anaconda\\lib\\site-packages\\scipy\\stats\\stats.py:1713: FutureWarning: Using a non-tuple sequence for multidimensional indexing is deprecated; use `arr[tuple(seq)]` instead of `arr[seq]`. In the future this will be interpreted as an array index, `arr[np.array(seq)]`, which will result either in an error or a different result.\n",
      "  return np.add.reduce(sorted[indexer] * weights, axis=axis) / sumval\n"
     ]
    },
    {
     "data": {
      "text/plain": [
       "<matplotlib.axes._subplots.AxesSubplot at 0x26cb48bb2e8>"
      ]
     },
     "execution_count": 31,
     "metadata": {},
     "output_type": "execute_result"
    },
    {
     "data": {
      "image/png": "[encoded data removed]",
      "text/plain": [
       "<Figure size 432x288 with 1 Axes>"
      ]
     },
     "metadata": {
      "needs_background": "light"
     },
     "output_type": "display_data"
    }
   ],
   "source": [
    "sb.regplot(data=a, x='duration_min',y='Customer_age',scatter_kws={'alpha': 1/20})"
   ]
  },
  {
   "cell_type": "code",
   "execution_count": 32,
   "metadata": {},
   "outputs": [
    {
     "data": {
      "image/png": "[encoded data removed]",
      "text/plain": [
       "<Figure size 576x576 with 2 Axes>"
      ]
     },
     "metadata": {
      "needs_background": "light"
     },
     "output_type": "display_data"
    }
   ],
   "source": [
    "plt.figure(figsize = [8, 8])\n",
    "\n",
    "# subplot 1: color vs cut\n",
    "plt.subplot(2, 1, 1)\n",
    "sb.countplot(data = bike2017, x = 'member_gender', hue = 'Customer_decade', palette = 'Blues')\n",
    "\n",
    "# subplot 2: clarity vs. cut\n",
    "ax = plt.subplot(2, 1, 2)\n",
    "sb.countplot(data = bike2017, x = 'hour_start', hue = 'member_gender', palette = 'Greens')\n",
    "ax.legend(ncol = 2) # re-arrange legend to reduce overlapping\n",
    "\n",
    "\n",
    "\n",
    "plt.show()"
   ]
  },
  {
   "cell_type": "markdown",
   "metadata": {},
   "source": [
    "We can see that olny for the women the 40s decade is lower than 20s. It means that the women over 40 years old do ntt prefer the bikes. The hour diagram doesnt show something different for the genders. They all follow the same movement through the day."
   ]
  },
  {
   "cell_type": "code",
   "execution_count": 33,
   "metadata": {
    "scrolled": true
   },
   "outputs": [
    {
     "data": {
      "image/png": "[encoded data removed]",
      "text/plain": [
       "<Figure size 432x288 with 1 Axes>"
      ]
     },
     "metadata": {
      "needs_background": "light"
     },
     "output_type": "display_data"
    }
   ],
   "source": [
    "a=bike2017[bike2017['duration_min']<60]\n",
    "base_color = sb.color_palette()[3]\n",
    "sb.boxplot(data = a, x='duration_min', y='member_gender', color = base_color);"
   ]
  },
  {
   "cell_type": "markdown",
   "metadata": {},
   "source": [
    "What is intresting is that the Females have the biggest duration mean on their rides. At the other side, men taking the shortest rides. "
   ]
  },
  {
   "cell_type": "markdown",
   "metadata": {},
   "source": [
    "Lets see the same diagramm only for the younger riders."
   ]
  },
  {
   "cell_type": "code",
   "execution_count": 34,
   "metadata": {},
   "outputs": [
    {
     "data": {
      "image/png": "[encoded data removed]",
      "text/plain": [
       "<Figure size 432x288 with 1 Axes>"
      ]
     },
     "metadata": {
      "needs_background": "light"
     },
     "output_type": "display_data"
    }
   ],
   "source": [
    "y=a[a['Customer_age']<30]\n",
    "base_color = sb.color_palette()[3]\n",
    "sb.boxplot(data = y, x='duration_min', y='member_gender', color = base_color);"
   ]
  },
  {
   "cell_type": "markdown",
   "metadata": {},
   "source": [
    "Here the differences between the genders are bigger. At the 'under 30s age' the Other gender take the shortest rides"
   ]
  },
  {
   "cell_type": "markdown",
   "metadata": {},
   "source": [
    "We can see the same thing below:"
   ]
  },
  {
   "cell_type": "code",
   "execution_count": 35,
   "metadata": {},
   "outputs": [
    {
     "data": {
      "image/png": "[encoded data removed]",
      "text/plain": [
       "<Figure size 432x288 with 1 Axes>"
      ]
     },
     "metadata": {
      "needs_background": "light"
     },
     "output_type": "display_data"
    }
   ],
   "source": [
    "young=bike2017[bike2017['Customer_age']<30]\n",
    "\n",
    "gender = [['Male', '^'],['Female','o'],\n",
    "               ['Other', 's']]\n",
    "\n",
    "for gen, marker in gender:\n",
    "    df_gender = young[young['member_gender'] == gen]\n",
    "    plt.scatter(data = df_gender, x = 'duration_min', y = 'Customer_age',\n",
    "                marker = marker,alpha = 1/5)\n",
    "    \n",
    "plt.legend(['Male','Female','Other']);"
   ]
  },
  {
   "cell_type": "code",
   "execution_count": 36,
   "metadata": {},
   "outputs": [
    {
     "data": {
      "image/png": "[encoded data removed]",
      "text/plain": [
       "<Figure size 432x288 with 1 Axes>"
      ]
     },
     "metadata": {
      "needs_background": "light"
     },
     "output_type": "display_data"
    }
   ],
   "source": [
    "a=bike2017[bike2017['duration_min']<30]\n",
    "base_color = sb.color_palette()[1]\n",
    "sb.boxplot(data = a, x='month_start', y='duration_min', color = base_color);"
   ]
  },
  {
   "cell_type": "code",
   "execution_count": 37,
   "metadata": {},
   "outputs": [
    {
     "data": {
      "text/html": [
       "<div>\n",
       "<style scoped>\n",
       "    .dataframe tbody tr th:only-of-type {\n",
       "        vertical-align: middle;\n",
       "    }\n",
       "\n",
       "    .dataframe tbody tr th {\n",
       "        vertical-align: top;\n",
       "    }\n",
       "\n",
       "    .dataframe thead th {\n",
       "        text-align: right;\n",
       "    }\n",
       "</style>\n",
       "<table border=\"1\" class=\"dataframe\">\n",
       "  <thead>\n",
       "    <tr style=\"text-align: right;\">\n",
       "      <th></th>\n",
       "      <th>month_start</th>\n",
       "      <th>count</th>\n",
       "    </tr>\n",
       "  </thead>\n",
       "  <tbody>\n",
       "    <tr>\n",
       "      <th>0</th>\n",
       "      <td>6</td>\n",
       "      <td>2689</td>\n",
       "    </tr>\n",
       "    <tr>\n",
       "      <th>1</th>\n",
       "      <td>7</td>\n",
       "      <td>44073</td>\n",
       "    </tr>\n",
       "    <tr>\n",
       "      <th>2</th>\n",
       "      <td>8</td>\n",
       "      <td>83292</td>\n",
       "    </tr>\n",
       "    <tr>\n",
       "      <th>3</th>\n",
       "      <td>9</td>\n",
       "      <td>98558</td>\n",
       "    </tr>\n",
       "    <tr>\n",
       "      <th>4</th>\n",
       "      <td>10</td>\n",
       "      <td>108937</td>\n",
       "    </tr>\n",
       "    <tr>\n",
       "      <th>5</th>\n",
       "      <td>11</td>\n",
       "      <td>95612</td>\n",
       "    </tr>\n",
       "    <tr>\n",
       "      <th>6</th>\n",
       "      <td>12</td>\n",
       "      <td>86539</td>\n",
       "    </tr>\n",
       "  </tbody>\n",
       "</table>\n",
       "</div>"
      ],
      "text/plain": [
       "   month_start   count\n",
       "0            6    2689\n",
       "1            7   44073\n",
       "2            8   83292\n",
       "3            9   98558\n",
       "4           10  108937\n",
       "5           11   95612\n",
       "6           12   86539"
      ]
     },
     "execution_count": 37,
     "metadata": {},
     "output_type": "execute_result"
    }
   ],
   "source": [
    "mcount=bike2017.groupby('month_start').size()\n",
    "mcount = mcount.reset_index(name = 'count')\n",
    "\n",
    "mcount"
   ]
  },
  {
   "cell_type": "code",
   "execution_count": 38,
   "metadata": {},
   "outputs": [
    {
     "data": {
      "image/png": "[encoded data removed]",
      "text/plain": [
       "<Figure size 432x288 with 1 Axes>"
      ]
     },
     "metadata": {
      "needs_background": "light"
     },
     "output_type": "display_data"
    }
   ],
   "source": [
    "sb.barplot(data = mcount, x = 'month_start',y='count');"
   ]
  },
  {
   "cell_type": "markdown",
   "metadata": {},
   "source": [
    "We can see that the summer months have the longest rides and the October have the more rides."
   ]
  },
  {
   "cell_type": "code",
   "execution_count": 39,
   "metadata": {},
   "outputs": [
    {
     "data": {
      "text/plain": [
       "(count    519700.000000\n",
       " mean         18.316825\n",
       " std          57.402441\n",
       " min           1.016667\n",
       " 25%           6.366667\n",
       " 50%           9.933333\n",
       " 75%          15.633333\n",
       " max        1439.483333\n",
       " Name: duration_min, dtype: float64, count    519700.000000\n",
       " mean         38.595213\n",
       " std           9.817382\n",
       " min          20.000000\n",
       " 25%          32.000000\n",
       " 50%          38.000000\n",
       " 75%          43.000000\n",
       " max         133.000000\n",
       " Name: Customer_age, dtype: float64)"
      ]
     },
     "execution_count": 39,
     "metadata": {},
     "output_type": "execute_result"
    }
   ],
   "source": [
    "bike2017['duration_min'].describe(),bike2017['Customer_age'].describe()"
   ]
  },
  {
   "cell_type": "code",
   "execution_count": 40,
   "metadata": {
    "scrolled": true
   },
   "outputs": [],
   "source": [
    "ccounts=bike2017.groupby(['member_gender','Customer_decade']).size()\n",
    "ccounts = ccounts.reset_index(name = 'count')\n",
    "ccounts = ccounts.pivot(index = 'Customer_decade', columns = 'member_gender', values = 'count')"
   ]
  },
  {
   "cell_type": "code",
   "execution_count": 41,
   "metadata": {
    "scrolled": true
   },
   "outputs": [
    {
     "data": {
      "text/plain": [
       "<matplotlib.axes._subplots.AxesSubplot at 0x26cb5607b00>"
      ]
     },
     "execution_count": 41,
     "metadata": {},
     "output_type": "execute_result"
    },
    {
     "data": {
      "image/png": "[encoded data removed]",
      "text/plain": [
       "<Figure size 432x288 with 2 Axes>"
      ]
     },
     "metadata": {
      "needs_background": "light"
     },
     "output_type": "display_data"
    }
   ],
   "source": [
    "sb.heatmap(ccounts,annot = True, fmt = 'd')"
   ]
  },
  {
   "cell_type": "markdown",
   "metadata": {},
   "source": [
    "The biggest group is \"Male riders at their 30s\" and the smallest is \"Other riders older than 70 years old\""
   ]
  },
  {
   "cell_type": "code",
   "execution_count": 42,
   "metadata": {},
   "outputs": [],
   "source": [
    "dcounts=bike2017.groupby(['month_start','day_start']).size()\n",
    "dcounts = dcounts.reset_index(name = 'count')\n",
    "dcounts = dcounts.pivot(index = 'day_start', columns = 'month_start', values = 'count')"
   ]
  },
  {
   "cell_type": "code",
   "execution_count": 43,
   "metadata": {
    "scrolled": true
   },
   "outputs": [
    {
     "data": {
      "text/plain": [
       "<matplotlib.axes._subplots.AxesSubplot at 0x26cbfa0a4e0>"
      ]
     },
     "execution_count": 43,
     "metadata": {},
     "output_type": "execute_result"
    },
    {
     "data": {
      "image/png": "[encoded data removed]",
      "text/plain": [
       "<Figure size 432x288 with 2 Axes>"
      ]
     },
     "metadata": {
      "needs_background": "light"
     },
     "output_type": "display_data"
    }
   ],
   "source": [
    "sb.heatmap(dcounts)"
   ]
  },
  {
   "cell_type": "markdown",
   "metadata": {},
   "source": [
    "The most crowded days where the Thuesdays and Mondays of October."
   ]
  },
  {
   "cell_type": "code",
   "execution_count": 44,
   "metadata": {},
   "outputs": [],
   "source": [
    "hcounts=bike2017.groupby(['day_start','hour_start']).size()\n",
    "hcounts = hcounts.reset_index(name = 'count')\n",
    "hcounts = hcounts.pivot(index = 'hour_start', columns = 'day_start', values = 'count')"
   ]
  },
  {
   "cell_type": "code",
   "execution_count": 45,
   "metadata": {},
   "outputs": [
    {
     "data": {
      "text/plain": [
       "<matplotlib.axes._subplots.AxesSubplot at 0x26cbf9e6780>"
      ]
     },
     "execution_count": 45,
     "metadata": {},
     "output_type": "execute_result"
    },
    {
     "data": {
      "image/png": "[encoded data removed]",
      "text/plain": [
       "<Figure size 432x288 with 2 Axes>"
      ]
     },
     "metadata": {
      "needs_background": "light"
     },
     "output_type": "display_data"
    }
   ],
   "source": [
    "sb.heatmap(hcounts)"
   ]
  },
  {
   "cell_type": "markdown",
   "metadata": {},
   "source": [
    "We can see that the more rides are on working days at 8:00 and 16:00-17:00. This can lead us to the conclusion that the riders are using their bikes to go to work.  "
   ]
  },
  {
   "cell_type": "code",
   "execution_count": 46,
   "metadata": {
    "scrolled": false
   },
   "outputs": [
    {
     "data": {
      "text/plain": [
       "start_station_name\n",
       "Market St at 10th St                                         11960\n",
       "San Francisco Caltrain Station 2  (Townsend St at 4th St)    12055\n",
       "San Francisco Caltrain (Townsend St at 4th St)               12546\n",
       "The Embarcadero at Sansome St                                13664\n",
       "San Francisco Ferry Building (Harry Bridges Plaza)           15187\n",
       "dtype: int64"
      ]
     },
     "execution_count": 46,
     "metadata": {},
     "output_type": "execute_result"
    }
   ],
   "source": [
    "start=bike2017.groupby('start_station_name').size().sort_values().tail()\n",
    "start"
   ]
  },
  {
   "cell_type": "code",
   "execution_count": 47,
   "metadata": {},
   "outputs": [
    {
     "data": {
      "text/plain": [
       "end_station_name\n",
       "Montgomery St BART Station (Market St at 2nd St)             13443\n",
       "San Francisco Caltrain Station 2  (Townsend St at 4th St)    13658\n",
       "The Embarcadero at Sansome St                                16531\n",
       "San Francisco Ferry Building (Harry Bridges Plaza)           17109\n",
       "San Francisco Caltrain (Townsend St at 4th St)               17378\n",
       "dtype: int64"
      ]
     },
     "execution_count": 47,
     "metadata": {},
     "output_type": "execute_result"
    }
   ],
   "source": [
    "bike2017.groupby('end_station_name').size().sort_values().tail()"
   ]
  },
  {
   "cell_type": "code",
   "execution_count": null,
   "metadata": {},
   "outputs": [],
   "source": []
  }
 ],
 "metadata": {
  "kernelspec": {
   "display_name": "Python 3",
   "language": "python",
   "name": "python3"
  },
  "language_info": {
   "codemirror_mode": {
    "name": "ipython",
    "version": 3
   },
   "file_extension": ".py",
   "mimetype": "text/x-python",
   "name": "python",
   "nbconvert_exporter": "python",
   "pygments_lexer": "ipython3",
   "version": "3.7.1"
  }
 },
 "nbformat": 4,
 "nbformat_minor": 2
}
